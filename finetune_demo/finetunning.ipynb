{
 "cells": [
  {
   "cell_type": "code",
   "execution_count": 1,
   "id": "09d85bfb-a54a-4c5e-bc3e-e96cfb28acda",
   "metadata": {
    "execution": {
     "iopub.execute_input": "2024-04-08T06:57:21.632171Z",
     "iopub.status.busy": "2024-04-08T06:57:21.631780Z",
     "iopub.status.idle": "2024-04-08T07:57:07.208755Z",
     "shell.execute_reply": "2024-04-08T07:57:07.208239Z",
     "shell.execute_reply.started": "2024-04-08T06:57:21.632155Z"
    },
    "tags": []
   },
   "outputs": [
    {
     "name": "stderr",
     "output_type": "stream",
     "text": [
      "Setting eos_token is not supported, use the default one.\n",
      "Setting pad_token is not supported, use the default one.\n",
      "Setting unk_token is not supported, use the default one.\n"
     ]
    },
    {
     "data": {
      "application/vnd.jupyter.widget-view+json": {
       "model_id": "d216249c2e3e4eac9d2345bd2a34bbbb",
       "version_major": 2,
       "version_minor": 0
      },
      "text/plain": [
       "Loading checkpoint shards:   0%|          | 0/7 [00:00<?, ?it/s]"
      ]
     },
     "metadata": {},
     "output_type": "display_data"
    },
    {
     "name": "stdout",
     "output_type": "stream",
     "text": [
      "trainable params: 1,949,696 || all params: 6,245,533,696 || trainable%: 0.031217444255383614\n",
      "--> Model\n",
      "\n",
      "--> model has 1.949696M params\n",
      "\n",
      "train_dataset: Dataset({\n",
      "    features: ['input_ids', 'labels'],\n",
      "    num_rows: 1207\n",
      "})\n"
     ]
    },
    {
     "data": {
      "application/vnd.jupyter.widget-view+json": {
       "model_id": "c993237ccbfc4171bec996a112152e1a",
       "version_major": 2,
       "version_minor": 0
      },
      "text/plain": [
       "Map (num_proc=16):   0%|          | 0/192 [00:00<?, ? examples/s]"
      ]
     },
     "metadata": {},
     "output_type": "display_data"
    },
    {
     "name": "stderr",
     "output_type": "stream",
     "text": [
      "/opt/conda/envs/chatglm3-6b-finetunning/lib/python3.10/site-packages/accelerate/accelerator.py:432: FutureWarning: Passing the following arguments to `Accelerator` is deprecated and will be removed in version 1.0 of Accelerate: dict_keys(['dispatch_batches', 'split_batches', 'even_batches', 'use_seedable_sampler']). Please pass an `accelerate.DataLoaderConfiguration` instead: \n",
      "dataloader_config = DataLoaderConfiguration(dispatch_batches=None, split_batches=False, even_batches=True, use_seedable_sampler=True)\n",
      "  warnings.warn(\n",
      "Detected kernel version 4.19.24, which is below the recommended minimum of 5.5.0; this can cause the process to hang. It is recommended to upgrade the kernel to the minimum version or higher.\n"
     ]
    },
    {
     "name": "stdout",
     "output_type": "stream",
     "text": [
      "val_dataset: Dataset({\n",
      "    features: ['input_ids', 'labels'],\n",
      "    num_rows: 140\n",
      "})\n",
      "test_dataset: Dataset({\n",
      "    features: ['input_ids', 'labels'],\n",
      "    num_rows: 140\n",
      "})\n"
     ]
    },
    {
     "name": "stderr",
     "output_type": "stream",
     "text": [
      "max_steps is given, it will override any value given in num_train_epochs\n",
      "***** Running training *****\n",
      "  Num examples = 1,207\n",
      "  Num Epochs = 4\n",
      "  Instantaneous batch size per device = 1\n",
      "  Total train batch size (w. parallel, distributed & accumulation) = 1\n",
      "  Gradient Accumulation steps = 1\n",
      "  Total optimization steps = 4,800\n",
      "  Number of trainable parameters = 1,949,696\n"
     ]
    },
    {
     "data": {
      "text/html": [
       "\n",
       "    <div>\n",
       "      \n",
       "      <progress value='4800' max='4800' style='width:300px; height:20px; vertical-align: middle;'></progress>\n",
       "      [4800/4800 56:28, Epoch 3/4]\n",
       "    </div>\n",
       "    <table border=\"1\" class=\"dataframe\">\n",
       "  <thead>\n",
       " <tr style=\"text-align: left;\">\n",
       "      <th>Step</th>\n",
       "      <th>Training Loss</th>\n",
       "      <th>Validation Loss</th>\n",
       "      <th>Rouge-1</th>\n",
       "      <th>Rouge-2</th>\n",
       "      <th>Rouge-l</th>\n",
       "    </tr>\n",
       "  </thead>\n",
       "  <tbody>\n",
       "    <tr>\n",
       "      <td>200</td>\n",
       "      <td>1.987700</td>\n",
       "      <td>No log</td>\n",
       "      <td>42.520780</td>\n",
       "      <td>19.466678</td>\n",
       "      <td>31.368156</td>\n",
       "    </tr>\n",
       "    <tr>\n",
       "      <td>400</td>\n",
       "      <td>1.771500</td>\n",
       "      <td>No log</td>\n",
       "      <td>42.550634</td>\n",
       "      <td>19.790410</td>\n",
       "      <td>31.787810</td>\n",
       "    </tr>\n",
       "    <tr>\n",
       "      <td>600</td>\n",
       "      <td>1.493800</td>\n",
       "      <td>No log</td>\n",
       "      <td>45.900194</td>\n",
       "      <td>22.409378</td>\n",
       "      <td>35.759034</td>\n",
       "    </tr>\n",
       "    <tr>\n",
       "      <td>800</td>\n",
       "      <td>1.526800</td>\n",
       "      <td>No log</td>\n",
       "      <td>46.142044</td>\n",
       "      <td>21.481852</td>\n",
       "      <td>35.913240</td>\n",
       "    </tr>\n",
       "    <tr>\n",
       "      <td>1000</td>\n",
       "      <td>1.302700</td>\n",
       "      <td>No log</td>\n",
       "      <td>48.107872</td>\n",
       "      <td>23.560524</td>\n",
       "      <td>38.399828</td>\n",
       "    </tr>\n",
       "    <tr>\n",
       "      <td>1200</td>\n",
       "      <td>1.329200</td>\n",
       "      <td>No log</td>\n",
       "      <td>49.843000</td>\n",
       "      <td>24.328398</td>\n",
       "      <td>40.314822</td>\n",
       "    </tr>\n",
       "    <tr>\n",
       "      <td>1400</td>\n",
       "      <td>1.174900</td>\n",
       "      <td>No log</td>\n",
       "      <td>48.201150</td>\n",
       "      <td>22.857218</td>\n",
       "      <td>39.266762</td>\n",
       "    </tr>\n",
       "    <tr>\n",
       "      <td>1600</td>\n",
       "      <td>0.986800</td>\n",
       "      <td>No log</td>\n",
       "      <td>49.214122</td>\n",
       "      <td>24.262648</td>\n",
       "      <td>40.836790</td>\n",
       "    </tr>\n",
       "    <tr>\n",
       "      <td>1800</td>\n",
       "      <td>0.915900</td>\n",
       "      <td>No log</td>\n",
       "      <td>49.807408</td>\n",
       "      <td>24.508274</td>\n",
       "      <td>41.329016</td>\n",
       "    </tr>\n",
       "    <tr>\n",
       "      <td>2000</td>\n",
       "      <td>1.622500</td>\n",
       "      <td>No log</td>\n",
       "      <td>49.685320</td>\n",
       "      <td>25.140466</td>\n",
       "      <td>41.542266</td>\n",
       "    </tr>\n",
       "    <tr>\n",
       "      <td>2200</td>\n",
       "      <td>1.137100</td>\n",
       "      <td>No log</td>\n",
       "      <td>48.429012</td>\n",
       "      <td>24.122642</td>\n",
       "      <td>40.555270</td>\n",
       "    </tr>\n",
       "    <tr>\n",
       "      <td>2400</td>\n",
       "      <td>1.208300</td>\n",
       "      <td>No log</td>\n",
       "      <td>49.246440</td>\n",
       "      <td>24.859136</td>\n",
       "      <td>41.532112</td>\n",
       "    </tr>\n",
       "    <tr>\n",
       "      <td>2600</td>\n",
       "      <td>1.242800</td>\n",
       "      <td>No log</td>\n",
       "      <td>49.515754</td>\n",
       "      <td>25.065640</td>\n",
       "      <td>41.522514</td>\n",
       "    </tr>\n",
       "    <tr>\n",
       "      <td>2800</td>\n",
       "      <td>1.297100</td>\n",
       "      <td>No log</td>\n",
       "      <td>49.281796</td>\n",
       "      <td>24.770790</td>\n",
       "      <td>41.112402</td>\n",
       "    </tr>\n",
       "    <tr>\n",
       "      <td>3000</td>\n",
       "      <td>1.561500</td>\n",
       "      <td>No log</td>\n",
       "      <td>49.876578</td>\n",
       "      <td>24.559822</td>\n",
       "      <td>41.070568</td>\n",
       "    </tr>\n",
       "    <tr>\n",
       "      <td>3200</td>\n",
       "      <td>1.139100</td>\n",
       "      <td>No log</td>\n",
       "      <td>48.574382</td>\n",
       "      <td>23.557448</td>\n",
       "      <td>40.328408</td>\n",
       "    </tr>\n",
       "    <tr>\n",
       "      <td>3400</td>\n",
       "      <td>1.047000</td>\n",
       "      <td>No log</td>\n",
       "      <td>49.331698</td>\n",
       "      <td>24.265542</td>\n",
       "      <td>40.905540</td>\n",
       "    </tr>\n",
       "    <tr>\n",
       "      <td>3600</td>\n",
       "      <td>1.183400</td>\n",
       "      <td>No log</td>\n",
       "      <td>48.933942</td>\n",
       "      <td>24.040822</td>\n",
       "      <td>40.598236</td>\n",
       "    </tr>\n",
       "    <tr>\n",
       "      <td>3800</td>\n",
       "      <td>1.253000</td>\n",
       "      <td>No log</td>\n",
       "      <td>49.401528</td>\n",
       "      <td>24.344250</td>\n",
       "      <td>41.137698</td>\n",
       "    </tr>\n",
       "    <tr>\n",
       "      <td>4000</td>\n",
       "      <td>1.008300</td>\n",
       "      <td>No log</td>\n",
       "      <td>48.815378</td>\n",
       "      <td>23.994682</td>\n",
       "      <td>40.556886</td>\n",
       "    </tr>\n",
       "    <tr>\n",
       "      <td>4200</td>\n",
       "      <td>1.232400</td>\n",
       "      <td>No log</td>\n",
       "      <td>49.083780</td>\n",
       "      <td>24.110952</td>\n",
       "      <td>40.517490</td>\n",
       "    </tr>\n",
       "    <tr>\n",
       "      <td>4400</td>\n",
       "      <td>1.369600</td>\n",
       "      <td>No log</td>\n",
       "      <td>48.548242</td>\n",
       "      <td>23.457096</td>\n",
       "      <td>40.222600</td>\n",
       "    </tr>\n",
       "    <tr>\n",
       "      <td>4600</td>\n",
       "      <td>1.128000</td>\n",
       "      <td>No log</td>\n",
       "      <td>48.350350</td>\n",
       "      <td>23.579388</td>\n",
       "      <td>39.972412</td>\n",
       "    </tr>\n",
       "    <tr>\n",
       "      <td>4800</td>\n",
       "      <td>1.086800</td>\n",
       "      <td>No log</td>\n",
       "      <td>48.356926</td>\n",
       "      <td>23.624704</td>\n",
       "      <td>39.972960</td>\n",
       "    </tr>\n",
       "  </tbody>\n",
       "</table><p>"
      ],
      "text/plain": [
       "<IPython.core.display.HTML object>"
      ]
     },
     "metadata": {},
     "output_type": "display_data"
    },
    {
     "name": "stderr",
     "output_type": "stream",
     "text": [
      "***** Running Evaluation *****\n",
      "  Num examples = 50\n",
      "  Batch size = 8\n",
      "Building prefix dict from the default dictionary ...\n",
      "Loading model from cache /tmp/jieba.cache\n",
      "Loading model cost 0.563 seconds.\n",
      "Prefix dict has been built successfully.\n",
      "Saving model checkpoint to ./output/checkpoint-200\n",
      "tokenizer config file saved in ./output/checkpoint-200/tokenizer_config.json\n",
      "Special tokens file saved in ./output/checkpoint-200/special_tokens_map.json\n",
      "***** Running Evaluation *****\n",
      "  Num examples = 50\n",
      "  Batch size = 8\n",
      "Saving model checkpoint to ./output/checkpoint-400\n",
      "tokenizer config file saved in ./output/checkpoint-400/tokenizer_config.json\n",
      "Special tokens file saved in ./output/checkpoint-400/special_tokens_map.json\n",
      "***** Running Evaluation *****\n",
      "  Num examples = 50\n",
      "  Batch size = 8\n",
      "Saving model checkpoint to ./output/checkpoint-600\n",
      "tokenizer config file saved in ./output/checkpoint-600/tokenizer_config.json\n",
      "Special tokens file saved in ./output/checkpoint-600/special_tokens_map.json\n",
      "***** Running Evaluation *****\n",
      "  Num examples = 50\n",
      "  Batch size = 8\n",
      "Saving model checkpoint to ./output/checkpoint-800\n",
      "tokenizer config file saved in ./output/checkpoint-800/tokenizer_config.json\n",
      "Special tokens file saved in ./output/checkpoint-800/special_tokens_map.json\n",
      "***** Running Evaluation *****\n",
      "  Num examples = 50\n",
      "  Batch size = 8\n",
      "Saving model checkpoint to ./output/checkpoint-1000\n",
      "tokenizer config file saved in ./output/checkpoint-1000/tokenizer_config.json\n",
      "Special tokens file saved in ./output/checkpoint-1000/special_tokens_map.json\n",
      "***** Running Evaluation *****\n",
      "  Num examples = 50\n",
      "  Batch size = 8\n",
      "Saving model checkpoint to ./output/checkpoint-1200\n",
      "tokenizer config file saved in ./output/checkpoint-1200/tokenizer_config.json\n",
      "Special tokens file saved in ./output/checkpoint-1200/special_tokens_map.json\n",
      "***** Running Evaluation *****\n",
      "  Num examples = 50\n",
      "  Batch size = 8\n",
      "Saving model checkpoint to ./output/checkpoint-1400\n",
      "tokenizer config file saved in ./output/checkpoint-1400/tokenizer_config.json\n",
      "Special tokens file saved in ./output/checkpoint-1400/special_tokens_map.json\n",
      "***** Running Evaluation *****\n",
      "  Num examples = 50\n",
      "  Batch size = 8\n",
      "Saving model checkpoint to ./output/checkpoint-1600\n",
      "tokenizer config file saved in ./output/checkpoint-1600/tokenizer_config.json\n",
      "Special tokens file saved in ./output/checkpoint-1600/special_tokens_map.json\n",
      "***** Running Evaluation *****\n",
      "  Num examples = 50\n",
      "  Batch size = 8\n",
      "Saving model checkpoint to ./output/checkpoint-1800\n",
      "tokenizer config file saved in ./output/checkpoint-1800/tokenizer_config.json\n",
      "Special tokens file saved in ./output/checkpoint-1800/special_tokens_map.json\n",
      "***** Running Evaluation *****\n",
      "  Num examples = 50\n",
      "  Batch size = 8\n",
      "Saving model checkpoint to ./output/checkpoint-2000\n",
      "tokenizer config file saved in ./output/checkpoint-2000/tokenizer_config.json\n",
      "Special tokens file saved in ./output/checkpoint-2000/special_tokens_map.json\n",
      "***** Running Evaluation *****\n",
      "  Num examples = 50\n",
      "  Batch size = 8\n",
      "Saving model checkpoint to ./output/checkpoint-2200\n",
      "tokenizer config file saved in ./output/checkpoint-2200/tokenizer_config.json\n",
      "Special tokens file saved in ./output/checkpoint-2200/special_tokens_map.json\n",
      "***** Running Evaluation *****\n",
      "  Num examples = 50\n",
      "  Batch size = 8\n",
      "Saving model checkpoint to ./output/checkpoint-2400\n",
      "tokenizer config file saved in ./output/checkpoint-2400/tokenizer_config.json\n",
      "Special tokens file saved in ./output/checkpoint-2400/special_tokens_map.json\n",
      "***** Running Evaluation *****\n",
      "  Num examples = 50\n",
      "  Batch size = 8\n",
      "Saving model checkpoint to ./output/checkpoint-2600\n",
      "tokenizer config file saved in ./output/checkpoint-2600/tokenizer_config.json\n",
      "Special tokens file saved in ./output/checkpoint-2600/special_tokens_map.json\n",
      "***** Running Evaluation *****\n",
      "  Num examples = 50\n",
      "  Batch size = 8\n",
      "Saving model checkpoint to ./output/checkpoint-2800\n",
      "tokenizer config file saved in ./output/checkpoint-2800/tokenizer_config.json\n",
      "Special tokens file saved in ./output/checkpoint-2800/special_tokens_map.json\n",
      "***** Running Evaluation *****\n",
      "  Num examples = 50\n",
      "  Batch size = 8\n",
      "Saving model checkpoint to ./output/checkpoint-3000\n",
      "tokenizer config file saved in ./output/checkpoint-3000/tokenizer_config.json\n",
      "Special tokens file saved in ./output/checkpoint-3000/special_tokens_map.json\n",
      "***** Running Evaluation *****\n",
      "  Num examples = 50\n",
      "  Batch size = 8\n",
      "Saving model checkpoint to ./output/checkpoint-3200\n",
      "tokenizer config file saved in ./output/checkpoint-3200/tokenizer_config.json\n",
      "Special tokens file saved in ./output/checkpoint-3200/special_tokens_map.json\n",
      "***** Running Evaluation *****\n",
      "  Num examples = 50\n",
      "  Batch size = 8\n",
      "Saving model checkpoint to ./output/checkpoint-3400\n",
      "tokenizer config file saved in ./output/checkpoint-3400/tokenizer_config.json\n",
      "Special tokens file saved in ./output/checkpoint-3400/special_tokens_map.json\n",
      "***** Running Evaluation *****\n",
      "  Num examples = 50\n",
      "  Batch size = 8\n",
      "Saving model checkpoint to ./output/checkpoint-3600\n",
      "tokenizer config file saved in ./output/checkpoint-3600/tokenizer_config.json\n",
      "Special tokens file saved in ./output/checkpoint-3600/special_tokens_map.json\n",
      "***** Running Evaluation *****\n",
      "  Num examples = 50\n",
      "  Batch size = 8\n",
      "Saving model checkpoint to ./output/checkpoint-3800\n",
      "tokenizer config file saved in ./output/checkpoint-3800/tokenizer_config.json\n",
      "Special tokens file saved in ./output/checkpoint-3800/special_tokens_map.json\n",
      "***** Running Evaluation *****\n",
      "  Num examples = 50\n",
      "  Batch size = 8\n",
      "Saving model checkpoint to ./output/checkpoint-4000\n",
      "tokenizer config file saved in ./output/checkpoint-4000/tokenizer_config.json\n",
      "Special tokens file saved in ./output/checkpoint-4000/special_tokens_map.json\n",
      "***** Running Evaluation *****\n",
      "  Num examples = 50\n",
      "  Batch size = 8\n",
      "Saving model checkpoint to ./output/checkpoint-4200\n",
      "tokenizer config file saved in ./output/checkpoint-4200/tokenizer_config.json\n",
      "Special tokens file saved in ./output/checkpoint-4200/special_tokens_map.json\n",
      "***** Running Evaluation *****\n",
      "  Num examples = 50\n",
      "  Batch size = 8\n",
      "Saving model checkpoint to ./output/checkpoint-4400\n",
      "tokenizer config file saved in ./output/checkpoint-4400/tokenizer_config.json\n",
      "Special tokens file saved in ./output/checkpoint-4400/special_tokens_map.json\n",
      "***** Running Evaluation *****\n",
      "  Num examples = 50\n",
      "  Batch size = 8\n",
      "Saving model checkpoint to ./output/checkpoint-4600\n",
      "tokenizer config file saved in ./output/checkpoint-4600/tokenizer_config.json\n",
      "Special tokens file saved in ./output/checkpoint-4600/special_tokens_map.json\n",
      "***** Running Evaluation *****\n",
      "  Num examples = 50\n",
      "  Batch size = 8\n",
      "Saving model checkpoint to ./output/checkpoint-4800\n",
      "tokenizer config file saved in ./output/checkpoint-4800/tokenizer_config.json\n",
      "Special tokens file saved in ./output/checkpoint-4800/special_tokens_map.json\n",
      "\n",
      "\n",
      "Training completed. Do not forget to share your model on huggingface.co/models =)\n",
      "\n",
      "\n",
      "***** Running Prediction *****\n",
      "  Num examples = 140\n",
      "  Batch size = 8\n"
     ]
    },
    {
     "data": {
      "text/html": [],
      "text/plain": [
       "<IPython.core.display.HTML object>"
      ]
     },
     "metadata": {},
     "output_type": "display_data"
    },
    {
     "name": "stdout",
     "output_type": "stream",
     "text": [
      "Evaluation metrics: {'rouge-1': 50.72500142857143, 'rouge-2': 24.470787857142856, 'rouge-l': 41.127454285714286}\n"
     ]
    }
   ],
   "source": [
    "%run finetune_hf.py data/ /mnt/workspace/chatglm3-6b/ configs/lora.yaml"
   ]
  },
  {
   "cell_type": "code",
   "execution_count": 1,
   "id": "e3be35b1-8aee-4702-996a-7d85181500f1",
   "metadata": {
    "ExecutionIndicator": {
     "show": true
    },
    "execution": {
     "iopub.execute_input": "2024-04-08T08:02:03.821781Z",
     "iopub.status.busy": "2024-04-08T08:02:03.821373Z",
     "iopub.status.idle": "2024-04-08T08:02:14.386145Z",
     "shell.execute_reply": "2024-04-08T08:02:14.385592Z",
     "shell.execute_reply.started": "2024-04-08T08:02:03.821759Z"
    },
    "tags": []
   },
   "outputs": [
    {
     "data": {
      "application/vnd.jupyter.widget-view+json": {
       "model_id": "df4032fa36ed47e5863cf29a9aad63db",
       "version_major": 2,
       "version_minor": 0
      },
      "text/plain": [
       "Loading checkpoint shards:   0%|          | 0/7 [00:00<?, ?it/s]"
      ]
     },
     "metadata": {},
     "output_type": "display_data"
    },
    {
     "name": "stderr",
     "output_type": "stream",
     "text": [
      "Setting eos_token is not supported, use the default one.\n",
      "Setting pad_token is not supported, use the default one.\n",
      "Setting unk_token is not supported, use the default one.\n"
     ]
    },
    {
     "name": "stdout",
     "output_type": "stream",
     "text": [
      "近日，中办、国办印发《关于加强金融服务民营企业的若干意见》，旨在解决民营企业融资难题，强化融资服务基础设施建设，提升企业信用。意见提出，建立统一信息平台，推进金融、税务、市场监管等跨部门信息资源共享，优化金融机构与民营企业对接机制。强调发挥国家融资担保基金作用，构建政府性融资担保体系，降低融资门槛，减少融资成本，助力民营企业高质量发展。\n"
     ]
    }
   ],
   "source": [
    "%run inference_hf.py output/checkpoint-4800/ --prompt \"金融机构与企业之间信息不对称是造成民营企业融资难、融资贵的重要原因。近日，中办、国办印发《关于加强金融服务民营企业的若干意见》，提出强化融资服务基础设施建设，着力破解民营企业信息不对称、信用不充分等问题。助力资金供需双方高效对接。\\n客户“画像”真实准确，金融机构才能“贷得放心”。但银行等金融机构服务民企，特别是小微企业时，一直存在获取准确信息、信用的障碍。一方面，部分企业自身提供的财务数据不全面、不真实，金融机构难以精准判断企业真实情况；另一方面，企业信息散落在不同政府部门之间，金融机构要充分掌握并不容易。\\n解决信息不对称问题，关键要打破“信息孤岛”，消除不同部门间的信息壁垒，建立统一的信息平台。\\n为实现信息跨层级跨部门跨地域互联互通，就必须推进金融、税务、市场监管、社保、海关、司法等相关领域的信息资源加速依法开放，从制度层面上为民企融资铺平道路。同时，健全优化金融机构与民营企业信息对接机制，企业依据自身融资需求“下单”，金融机构可根据所掌握的信息“供货”，让信息“多跑路”企业“少跑腿”。\\n信息不够，信用来帮。受困于此前传统授信模式，金融机构往往需要企业通过抵押、担保等辅助手段增信。但由于可选的担保产品有限，不少企业选择相互担保，使得近年一些地方“担保链”风险事件频发。鉴于此，此次意见提出的“发挥国家融资担保基金引领作用，推动各地政府性融资担保体系建设和业务合作”一系列措施，是亟须之策也是长远之举。\\n政府性融资担保机构的建立，可以起到分散结构性风险的作用，有效撬动金融机构对民营企业的支持。并且，政府出资的融资担保机构不以营利为目的，在降低融资门槛的同时，还能减少融资成本。\\n民营企业要想驶入高质量发展的轨道，完善的金融基础设施建设必须先行。但这是一个长期的过程，唯有建立健全长效机制，将工作做好做实，才能有效缓解民营企业融资难、融资贵问题，增强微观主体活力，促进经济社会平稳健康发展。\""
   ]
  },
  {
   "cell_type": "code",
   "execution_count": 1,
   "id": "f8e80ecd-c5ea-4762-87e5-57e8fcc68963",
   "metadata": {
    "execution": {
     "iopub.execute_input": "2024-04-08T08:04:25.420759Z",
     "iopub.status.busy": "2024-04-08T08:04:25.420423Z",
     "iopub.status.idle": "2024-04-08T08:04:35.734550Z",
     "shell.execute_reply": "2024-04-08T08:04:35.734087Z",
     "shell.execute_reply.started": "2024-04-08T08:04:25.420744Z"
    },
    "tags": []
   },
   "outputs": [
    {
     "data": {
      "application/vnd.jupyter.widget-view+json": {
       "model_id": "c5e0a645214b46f6b4384517eb1d7515",
       "version_major": 2,
       "version_minor": 0
      },
      "text/plain": [
       "Loading checkpoint shards:   0%|          | 0/7 [00:00<?, ?it/s]"
      ]
     },
     "metadata": {},
     "output_type": "display_data"
    },
    {
     "name": "stderr",
     "output_type": "stream",
     "text": [
      "Setting eos_token is not supported, use the default one.\n",
      "Setting pad_token is not supported, use the default one.\n",
      "Setting unk_token is not supported, use the default one.\n"
     ]
    },
    {
     "name": "stdout",
     "output_type": "stream",
     "text": [
      "近日，我国发布《关于加强金融服务民营企业的若干意见》，旨在解决民营企业融资难题。文件强调，强化融资基础设施建设，提升企业信用信息，实现信息共享，消除部门间信息孤岛。文件提出，金融机构需优化与民营企业对接机制，发挥国家融资担保基金作用，建立政府性融资担保机构，降低融资门槛，减少融资成本，以促进民营经济高质量发展。\n"
     ]
    }
   ],
   "source": [
    "%run inference_hf.py output/checkpoint-1800/ --prompt \"金融机构与企业之间信息不对称是造成民营企业融资难、融资贵的重要原因。近日，中办、国办印发《关于加强金融服务民营企业的若干意见》，提出强化融资服务基础设施建设，着力破解民营企业信息不对称、信用不充分等问题。助力资金供需双方高效对接。\\n客户“画像”真实准确，金融机构才能“贷得放心”。但银行等金融机构服务民企，特别是小微企业时，一直存在获取准确信息、信用的障碍。一方面，部分企业自身提供的财务数据不全面、不真实，金融机构难以精准判断企业真实情况；另一方面，企业信息散落在不同政府部门之间，金融机构要充分掌握并不容易。\\n解决信息不对称问题，关键要打破“信息孤岛”，消除不同部门间的信息壁垒，建立统一的信息平台。\\n为实现信息跨层级跨部门跨地域互联互通，就必须推进金融、税务、市场监管、社保、海关、司法等相关领域的信息资源加速依法开放，从制度层面上为民企融资铺平道路。同时，健全优化金融机构与民营企业信息对接机制，企业依据自身融资需求“下单”，金融机构可根据所掌握的信息“供货”，让信息“多跑路”企业“少跑腿”。\\n信息不够，信用来帮。受困于此前传统授信模式，金融机构往往需要企业通过抵押、担保等辅助手段增信。但由于可选的担保产品有限，不少企业选择相互担保，使得近年一些地方“担保链”风险事件频发。鉴于此，此次意见提出的“发挥国家融资担保基金引领作用，推动各地政府性融资担保体系建设和业务合作”一系列措施，是亟须之策也是长远之举。\\n政府性融资担保机构的建立，可以起到分散结构性风险的作用，有效撬动金融机构对民营企业的支持。并且，政府出资的融资担保机构不以营利为目的，在降低融资门槛的同时，还能减少融资成本。\\n民营企业要想驶入高质量发展的轨道，完善的金融基础设施建设必须先行。但这是一个长期的过程，唯有建立健全长效机制，将工作做好做实，才能有效缓解民营企业融资难、融资贵问题，增强微观主体活力，促进经济社会平稳健康发展。\""
   ]
  },
  {
   "cell_type": "code",
   "execution_count": 1,
   "id": "ef04cd60-e25e-46f7-b3c2-c6d9c0b2a8c8",
   "metadata": {
    "execution": {
     "iopub.execute_input": "2024-04-08T08:24:01.620273Z",
     "iopub.status.busy": "2024-04-08T08:24:01.619971Z",
     "iopub.status.idle": "2024-04-08T08:38:25.784882Z",
     "shell.execute_reply": "2024-04-08T08:38:25.784408Z",
     "shell.execute_reply.started": "2024-04-08T08:24:01.620252Z"
    },
    "tags": []
   },
   "outputs": [
    {
     "name": "stderr",
     "output_type": "stream",
     "text": [
      "Setting eos_token is not supported, use the default one.\n",
      "Setting pad_token is not supported, use the default one.\n",
      "Setting unk_token is not supported, use the default one.\n"
     ]
    },
    {
     "data": {
      "application/vnd.jupyter.widget-view+json": {
       "model_id": "71f9db7c91974c15b19f2b34f77a2137",
       "version_major": 2,
       "version_minor": 0
      },
      "text/plain": [
       "Loading checkpoint shards:   0%|          | 0/7 [00:00<?, ?it/s]"
      ]
     },
     "metadata": {},
     "output_type": "display_data"
    },
    {
     "name": "stdout",
     "output_type": "stream",
     "text": [
      "trainable params: 1,949,696 || all params: 6,245,533,696 || trainable%: 0.031217444255383614\n",
      "--> Model\n",
      "\n",
      "--> model has 1.949696M params\n",
      "\n",
      "train_dataset: Dataset({\n",
      "    features: ['input_ids', 'labels'],\n",
      "    num_rows: 1207\n",
      "})\n"
     ]
    },
    {
     "data": {
      "application/vnd.jupyter.widget-view+json": {
       "model_id": "a4af365110a9461393764c5ea80476fb",
       "version_major": 2,
       "version_minor": 0
      },
      "text/plain": [
       "Map (num_proc=16):   0%|          | 0/192 [00:00<?, ? examples/s]"
      ]
     },
     "metadata": {},
     "output_type": "display_data"
    },
    {
     "name": "stderr",
     "output_type": "stream",
     "text": [
      "/opt/conda/envs/chatglm3-6b-finetunning/lib/python3.10/site-packages/accelerate/accelerator.py:432: FutureWarning: Passing the following arguments to `Accelerator` is deprecated and will be removed in version 1.0 of Accelerate: dict_keys(['dispatch_batches', 'split_batches', 'even_batches', 'use_seedable_sampler']). Please pass an `accelerate.DataLoaderConfiguration` instead: \n",
      "dataloader_config = DataLoaderConfiguration(dispatch_batches=None, split_batches=False, even_batches=True, use_seedable_sampler=True)\n",
      "  warnings.warn(\n",
      "Detected kernel version 4.19.24, which is below the recommended minimum of 5.5.0; this can cause the process to hang. It is recommended to upgrade the kernel to the minimum version or higher.\n"
     ]
    },
    {
     "name": "stdout",
     "output_type": "stream",
     "text": [
      "val_dataset: Dataset({\n",
      "    features: ['input_ids', 'labels'],\n",
      "    num_rows: 140\n",
      "})\n",
      "test_dataset: Dataset({\n",
      "    features: ['input_ids', 'labels'],\n",
      "    num_rows: 140\n",
      "})\n"
     ]
    },
    {
     "name": "stderr",
     "output_type": "stream",
     "text": [
      "max_steps is given, it will override any value given in num_train_epochs\n",
      "Loading model from ./output/checkpoint-1400.\n",
      "***** Running training *****\n",
      "  Num examples = 1,207\n",
      "  Num Epochs = 2\n",
      "  Instantaneous batch size per device = 1\n",
      "  Total train batch size (w. parallel, distributed & accumulation) = 1\n",
      "  Gradient Accumulation steps = 1\n",
      "  Total optimization steps = 2,400\n",
      "  Number of trainable parameters = 1,949,696\n",
      "  Continuing training from checkpoint, will skip to saved global_step\n",
      "  Continuing training from epoch 1\n",
      "  Continuing training from global step 1400\n",
      "  Will skip the first 1 epochs then the first 193 batches in the first epoch.\n"
     ]
    },
    {
     "name": "stdout",
     "output_type": "stream",
     "text": [
      "resume checkpoint from  checkpoint-1400\n"
     ]
    },
    {
     "data": {
      "text/html": [
       "\n",
       "    <div>\n",
       "      \n",
       "      <progress value='2400' max='2400' style='width:300px; height:20px; vertical-align: middle;'></progress>\n",
       "      [2400/2400 11:14, Epoch 1/2]\n",
       "    </div>\n",
       "    <table border=\"1\" class=\"dataframe\">\n",
       "  <thead>\n",
       " <tr style=\"text-align: left;\">\n",
       "      <th>Step</th>\n",
       "      <th>Training Loss</th>\n",
       "      <th>Validation Loss</th>\n",
       "      <th>Rouge-1</th>\n",
       "      <th>Rouge-2</th>\n",
       "      <th>Rouge-l</th>\n",
       "      <th>Bleu-4</th>\n",
       "    </tr>\n",
       "  </thead>\n",
       "  <tbody>\n",
       "    <tr>\n",
       "      <td>1600</td>\n",
       "      <td>0.989700</td>\n",
       "      <td>No log</td>\n",
       "      <td>49.262980</td>\n",
       "      <td>23.817958</td>\n",
       "      <td>40.682200</td>\n",
       "      <td>0.153208</td>\n",
       "    </tr>\n",
       "    <tr>\n",
       "      <td>1800</td>\n",
       "      <td>0.923700</td>\n",
       "      <td>No log</td>\n",
       "      <td>49.425840</td>\n",
       "      <td>24.134944</td>\n",
       "      <td>40.864768</td>\n",
       "      <td>0.152425</td>\n",
       "    </tr>\n",
       "    <tr>\n",
       "      <td>2000</td>\n",
       "      <td>1.656500</td>\n",
       "      <td>No log</td>\n",
       "      <td>49.039494</td>\n",
       "      <td>23.665710</td>\n",
       "      <td>40.315226</td>\n",
       "      <td>0.150063</td>\n",
       "    </tr>\n",
       "    <tr>\n",
       "      <td>2200</td>\n",
       "      <td>1.167400</td>\n",
       "      <td>No log</td>\n",
       "      <td>49.995988</td>\n",
       "      <td>24.436350</td>\n",
       "      <td>41.207942</td>\n",
       "      <td>0.156220</td>\n",
       "    </tr>\n",
       "    <tr>\n",
       "      <td>2400</td>\n",
       "      <td>1.303900</td>\n",
       "      <td>No log</td>\n",
       "      <td>50.029764</td>\n",
       "      <td>24.469376</td>\n",
       "      <td>41.152604</td>\n",
       "      <td>0.154158</td>\n",
       "    </tr>\n",
       "  </tbody>\n",
       "</table><p>"
      ],
      "text/plain": [
       "<IPython.core.display.HTML object>"
      ]
     },
     "metadata": {},
     "output_type": "display_data"
    },
    {
     "name": "stderr",
     "output_type": "stream",
     "text": [
      "***** Running Evaluation *****\n",
      "  Num examples = 50\n",
      "  Batch size = 8\n",
      "Building prefix dict from the default dictionary ...\n",
      "Loading model from cache /tmp/jieba.cache\n",
      "Loading model cost 0.560 seconds.\n",
      "Prefix dict has been built successfully.\n",
      "Saving model checkpoint to ./output/checkpoint-1600\n",
      "tokenizer config file saved in ./output/checkpoint-1600/tokenizer_config.json\n",
      "Special tokens file saved in ./output/checkpoint-1600/special_tokens_map.json\n",
      "***** Running Evaluation *****\n",
      "  Num examples = 50\n",
      "  Batch size = 8\n",
      "Saving model checkpoint to ./output/checkpoint-1800\n",
      "tokenizer config file saved in ./output/checkpoint-1800/tokenizer_config.json\n",
      "Special tokens file saved in ./output/checkpoint-1800/special_tokens_map.json\n",
      "***** Running Evaluation *****\n",
      "  Num examples = 50\n",
      "  Batch size = 8\n",
      "Saving model checkpoint to ./output/checkpoint-2000\n",
      "tokenizer config file saved in ./output/checkpoint-2000/tokenizer_config.json\n",
      "Special tokens file saved in ./output/checkpoint-2000/special_tokens_map.json\n",
      "***** Running Evaluation *****\n",
      "  Num examples = 50\n",
      "  Batch size = 8\n",
      "Saving model checkpoint to ./output/checkpoint-2200\n",
      "tokenizer config file saved in ./output/checkpoint-2200/tokenizer_config.json\n",
      "Special tokens file saved in ./output/checkpoint-2200/special_tokens_map.json\n",
      "***** Running Evaluation *****\n",
      "  Num examples = 50\n",
      "  Batch size = 8\n",
      "Saving model checkpoint to ./output/checkpoint-2400\n",
      "tokenizer config file saved in ./output/checkpoint-2400/tokenizer_config.json\n",
      "Special tokens file saved in ./output/checkpoint-2400/special_tokens_map.json\n",
      "\n",
      "\n",
      "Training completed. Do not forget to share your model on huggingface.co/models =)\n",
      "\n",
      "\n",
      "***** Running Prediction *****\n",
      "  Num examples = 140\n",
      "  Batch size = 8\n"
     ]
    },
    {
     "data": {
      "text/html": [],
      "text/plain": [
       "<IPython.core.display.HTML object>"
      ]
     },
     "metadata": {},
     "output_type": "display_data"
    },
    {
     "name": "stdout",
     "output_type": "stream",
     "text": [
      "Evaluation metrics: {'rouge-1': 50.242158571428575, 'rouge-2': 24.012250714285717, 'rouge-l': 40.672354285714285, 'bleu-4': 0.148903860955894}\n"
     ]
    }
   ],
   "source": [
    "%run finetune_hf.py data/ /mnt/workspace/chatglm3-6b/ configs/lora.yaml 1400"
   ]
  },
  {
   "cell_type": "code",
   "execution_count": 1,
   "id": "62e37905-96a6-495c-a923-d7babddce442",
   "metadata": {
    "execution": {
     "iopub.execute_input": "2024-04-08T08:42:49.153854Z",
     "iopub.status.busy": "2024-04-08T08:42:49.153380Z",
     "iopub.status.idle": "2024-04-08T08:42:59.624258Z",
     "shell.execute_reply": "2024-04-08T08:42:59.623795Z",
     "shell.execute_reply.started": "2024-04-08T08:42:49.153836Z"
    },
    "tags": []
   },
   "outputs": [
    {
     "data": {
      "application/vnd.jupyter.widget-view+json": {
       "model_id": "292fdc3b225c44ca90dd79afabac7b93",
       "version_major": 2,
       "version_minor": 0
      },
      "text/plain": [
       "Loading checkpoint shards:   0%|          | 0/7 [00:00<?, ?it/s]"
      ]
     },
     "metadata": {},
     "output_type": "display_data"
    },
    {
     "name": "stderr",
     "output_type": "stream",
     "text": [
      "Setting eos_token is not supported, use the default one.\n",
      "Setting pad_token is not supported, use the default one.\n",
      "Setting unk_token is not supported, use the default one.\n"
     ]
    },
    {
     "name": "stdout",
     "output_type": "stream",
     "text": [
      "近日，我国发布《关于金融支持民营企业的若干意见》，旨在解决企业融资难题。文件提出加强融资服务基础设施建设，提升企业信用，并建立统一信息平台。同时，推进金融、税务等相关部门信息共享，优化金融机构与民营企业对接机制，以降低融资门槛，减少融资成本。政府性融资担保机构的建立将有助于分散风险，降低融资门槛，促进金融市场发展。\n"
     ]
    }
   ],
   "source": [
    "%run inference_hf.py output/checkpoint-2400/ --prompt \"金融机构与企业之间信息不对称是造成民营企业融资难、融资贵的重要原因。近日，中办、国办印发《关于加强金融服务民营企业的若干意见》，提出强化融资服务基础设施建设，着力破解民营企业信息不对称、信用不充分等问题。助力资金供需双方高效对接。\\n客户“画像”真实准确，金融机构才能“贷得放心”。但银行等金融机构服务民企，特别是小微企业时，一直存在获取准确信息、信用的障碍。一方面，部分企业自身提供的财务数据不全面、不真实，金融机构难以精准判断企业真实情况；另一方面，企业信息散落在不同政府部门之间，金融机构要充分掌握并不容易。\\n解决信息不对称问题，关键要打破“信息孤岛”，消除不同部门间的信息壁垒，建立统一的信息平台。\\n为实现信息跨层级跨部门跨地域互联互通，就必须推进金融、税务、市场监管、社保、海关、司法等相关领域的信息资源加速依法开放，从制度层面上为民企融资铺平道路。同时，健全优化金融机构与民营企业信息对接机制，企业依据自身融资需求“下单”，金融机构可根据所掌握的信息“供货”，让信息“多跑路”企业“少跑腿”。\\n信息不够，信用来帮。受困于此前传统授信模式，金融机构往往需要企业通过抵押、担保等辅助手段增信。但由于可选的担保产品有限，不少企业选择相互担保，使得近年一些地方“担保链”风险事件频发。鉴于此，此次意见提出的“发挥国家融资担保基金引领作用，推动各地政府性融资担保体系建设和业务合作”一系列措施，是亟须之策也是长远之举。\\n政府性融资担保机构的建立，可以起到分散结构性风险的作用，有效撬动金融机构对民营企业的支持。并且，政府出资的融资担保机构不以营利为目的，在降低融资门槛的同时，还能减少融资成本。\\n民营企业要想驶入高质量发展的轨道，完善的金融基础设施建设必须先行。但这是一个长期的过程，唯有建立健全长效机制，将工作做好做实，才能有效缓解民营企业融资难、融资贵问题，增强微观主体活力，促进经济社会平稳健康发展。\""
   ]
  },
  {
   "cell_type": "code",
   "execution_count": 1,
   "id": "30bbdd83-a2d9-4b7d-aada-c6aa8af2ccf8",
   "metadata": {
    "ExecutionIndicator": {
     "show": false
    },
    "execution": {
     "iopub.execute_input": "2024-04-08T08:43:16.774761Z",
     "iopub.status.busy": "2024-04-08T08:43:16.774535Z",
     "iopub.status.idle": "2024-04-08T08:43:26.771136Z",
     "shell.execute_reply": "2024-04-08T08:43:26.770666Z",
     "shell.execute_reply.started": "2024-04-08T08:43:16.774737Z"
    },
    "tags": []
   },
   "outputs": [
    {
     "data": {
      "application/vnd.jupyter.widget-view+json": {
       "model_id": "7f5713c92e3c4faeb0710169269c894b",
       "version_major": 2,
       "version_minor": 0
      },
      "text/plain": [
       "Loading checkpoint shards:   0%|          | 0/7 [00:00<?, ?it/s]"
      ]
     },
     "metadata": {},
     "output_type": "display_data"
    },
    {
     "name": "stderr",
     "output_type": "stream",
     "text": [
      "Setting eos_token is not supported, use the default one.\n",
      "Setting pad_token is not supported, use the default one.\n",
      "Setting unk_token is not supported, use the default one.\n"
     ]
    },
    {
     "name": "stdout",
     "output_type": "stream",
     "text": [
      "近日，我国发布《关于加强金融服务民营企业的若干意见》，旨在解决民营企业融资难题。文件提出，需强化融资服务基础设施，消除信息孤岛，实现金融资源跨部门共享，同时，建立政府性融资担保体系，降低融资门槛，优化融资成本。长期推进金融基础设施建设，以增强企业活力，促进经济发展。\n"
     ]
    }
   ],
   "source": [
    "%run inference_hf.py output/checkpoint-2200/ --prompt \"金融机构与企业之间信息不对称是造成民营企业融资难、融资贵的重要原因。近日，中办、国办印发《关于加强金融服务民营企业的若干意见》，提出强化融资服务基础设施建设，着力破解民营企业信息不对称、信用不充分等问题。助力资金供需双方高效对接。\\n客户“画像”真实准确，金融机构才能“贷得放心”。但银行等金融机构服务民企，特别是小微企业时，一直存在获取准确信息、信用的障碍。一方面，部分企业自身提供的财务数据不全面、不真实，金融机构难以精准判断企业真实情况；另一方面，企业信息散落在不同政府部门之间，金融机构要充分掌握并不容易。\\n解决信息不对称问题，关键要打破“信息孤岛”，消除不同部门间的信息壁垒，建立统一的信息平台。\\n为实现信息跨层级跨部门跨地域互联互通，就必须推进金融、税务、市场监管、社保、海关、司法等相关领域的信息资源加速依法开放，从制度层面上为民企融资铺平道路。同时，健全优化金融机构与民营企业信息对接机制，企业依据自身融资需求“下单”，金融机构可根据所掌握的信息“供货”，让信息“多跑路”企业“少跑腿”。\\n信息不够，信用来帮。受困于此前传统授信模式，金融机构往往需要企业通过抵押、担保等辅助手段增信。但由于可选的担保产品有限，不少企业选择相互担保，使得近年一些地方“担保链”风险事件频发。鉴于此，此次意见提出的“发挥国家融资担保基金引领作用，推动各地政府性融资担保体系建设和业务合作”一系列措施，是亟须之策也是长远之举。\\n政府性融资担保机构的建立，可以起到分散结构性风险的作用，有效撬动金融机构对民营企业的支持。并且，政府出资的融资担保机构不以营利为目的，在降低融资门槛的同时，还能减少融资成本。\\n民营企业要想驶入高质量发展的轨道，完善的金融基础设施建设必须先行。但这是一个长期的过程，唯有建立健全长效机制，将工作做好做实，才能有效缓解民营企业融资难、融资贵问题，增强微观主体活力，促进经济社会平稳健康发展。\""
   ]
  },
  {
   "cell_type": "code",
   "execution_count": 1,
   "id": "97cb903b-47f2-43e0-a8cd-46f502e9ff21",
   "metadata": {
    "execution": {
     "iopub.execute_input": "2024-04-08T08:50:57.615290Z",
     "iopub.status.busy": "2024-04-08T08:50:57.615004Z",
     "iopub.status.idle": "2024-04-08T08:51:07.858112Z",
     "shell.execute_reply": "2024-04-08T08:51:07.857623Z",
     "shell.execute_reply.started": "2024-04-08T08:50:57.615272Z"
    },
    "tags": []
   },
   "outputs": [
    {
     "data": {
      "application/vnd.jupyter.widget-view+json": {
       "model_id": "d2d1d9a7bba745dd865ae19150f343fe",
       "version_major": 2,
       "version_minor": 0
      },
      "text/plain": [
       "Loading checkpoint shards:   0%|          | 0/7 [00:00<?, ?it/s]"
      ]
     },
     "metadata": {},
     "output_type": "display_data"
    },
    {
     "name": "stderr",
     "output_type": "stream",
     "text": [
      "Setting eos_token is not supported, use the default one.\n",
      "Setting pad_token is not supported, use the default one.\n",
      "Setting unk_token is not supported, use the default one.\n"
     ]
    },
    {
     "name": "stdout",
     "output_type": "stream",
     "text": [
      "近日，我国中办、国办发布《关于金融服务民营企业的若干意见》，旨在解决民营企业融资难题。文件提出，金融机构需加强融资基础设施建设，提高民营企业信息准确性，推动政府性融资担保体系发展，降低融资门槛及成本。长期目标是建立健全金融基础设施，发挥政府性担保机构作用，增强企业活力，促进经济稳定发展。\n"
     ]
    }
   ],
   "source": [
    "%run inference_hf.py output/checkpoint-2000/ --prompt \"金融机构与企业之间信息不对称是造成民营企业融资难、融资贵的重要原因。近日，中办、国办印发《关于加强金融服务民营企业的若干意见》，提出强化融资服务基础设施建设，着力破解民营企业信息不对称、信用不充分等问题。助力资金供需双方高效对接。\\n客户“画像”真实准确，金融机构才能“贷得放心”。但银行等金融机构服务民企，特别是小微企业时，一直存在获取准确信息、信用的障碍。一方面，部分企业自身提供的财务数据不全面、不真实，金融机构难以精准判断企业真实情况；另一方面，企业信息散落在不同政府部门之间，金融机构要充分掌握并不容易。\\n解决信息不对称问题，关键要打破“信息孤岛”，消除不同部门间的信息壁垒，建立统一的信息平台。\\n为实现信息跨层级跨部门跨地域互联互通，就必须推进金融、税务、市场监管、社保、海关、司法等相关领域的信息资源加速依法开放，从制度层面上为民企融资铺平道路。同时，健全优化金融机构与民营企业信息对接机制，企业依据自身融资需求“下单”，金融机构可根据所掌握的信息“供货”，让信息“多跑路”企业“少跑腿”。\\n信息不够，信用来帮。受困于此前传统授信模式，金融机构往往需要企业通过抵押、担保等辅助手段增信。但由于可选的担保产品有限，不少企业选择相互担保，使得近年一些地方“担保链”风险事件频发。鉴于此，此次意见提出的“发挥国家融资担保基金引领作用，推动各地政府性融资担保体系建设和业务合作”一系列措施，是亟须之策也是长远之举。\\n政府性融资担保机构的建立，可以起到分散结构性风险的作用，有效撬动金融机构对民营企业的支持。并且，政府出资的融资担保机构不以营利为目的，在降低融资门槛的同时，还能减少融资成本。\\n民营企业要想驶入高质量发展的轨道，完善的金融基础设施建设必须先行。但这是一个长期的过程，唯有建立健全长效机制，将工作做好做实，才能有效缓解民营企业融资难、融资贵问题，增强微观主体活力，促进经济社会平稳健康发展。\""
   ]
  },
  {
   "cell_type": "code",
   "execution_count": 1,
   "id": "c14b8899-edf2-40e4-9cfd-5d65c0f7d147",
   "metadata": {
    "execution": {
     "iopub.execute_input": "2024-04-08T08:52:40.977474Z",
     "iopub.status.busy": "2024-04-08T08:52:40.977076Z",
     "iopub.status.idle": "2024-04-08T08:52:51.684309Z",
     "shell.execute_reply": "2024-04-08T08:52:51.683854Z",
     "shell.execute_reply.started": "2024-04-08T08:52:40.977445Z"
    },
    "tags": []
   },
   "outputs": [
    {
     "data": {
      "application/vnd.jupyter.widget-view+json": {
       "model_id": "24c4ea48af7a455d883ec60dd436da87",
       "version_major": 2,
       "version_minor": 0
      },
      "text/plain": [
       "Loading checkpoint shards:   0%|          | 0/7 [00:00<?, ?it/s]"
      ]
     },
     "metadata": {},
     "output_type": "display_data"
    },
    {
     "name": "stderr",
     "output_type": "stream",
     "text": [
      "Setting eos_token is not supported, use the default one.\n",
      "Setting pad_token is not supported, use the default one.\n",
      "Setting unk_token is not supported, use the default one.\n"
     ]
    },
    {
     "name": "stdout",
     "output_type": "stream",
     "text": [
      "近日，我国发布《关于金融服务民营企业的若干意见》，旨在解决民营企业融资难题。文件强调加强融资服务基础设施建设，解决信息不对称、信用不足问题。重点推进金融、税务、市场监管等跨部门信息资源共享，构建统一信息平台，优化金融机构与民营企业对接机制。文件还提出建立政府性融资担保体系，发挥国家担保基金作用，降低融资门槛，降低融资成本，推动民营企业高质量发展。\n"
     ]
    }
   ],
   "source": [
    "%run inference_hf.py output/checkpoint-1800/ --prompt \"金融机构与企业之间信息不对称是造成民营企业融资难、融资贵的重要原因。近日，中办、国办印发《关于加强金融服务民营企业的若干意见》，提出强化融资服务基础设施建设，着力破解民营企业信息不对称、信用不充分等问题。助力资金供需双方高效对接。\\n客户“画像”真实准确，金融机构才能“贷得放心”。但银行等金融机构服务民企，特别是小微企业时，一直存在获取准确信息、信用的障碍。一方面，部分企业自身提供的财务数据不全面、不真实，金融机构难以精准判断企业真实情况；另一方面，企业信息散落在不同政府部门之间，金融机构要充分掌握并不容易。\\n解决信息不对称问题，关键要打破“信息孤岛”，消除不同部门间的信息壁垒，建立统一的信息平台。\\n为实现信息跨层级跨部门跨地域互联互通，就必须推进金融、税务、市场监管、社保、海关、司法等相关领域的信息资源加速依法开放，从制度层面上为民企融资铺平道路。同时，健全优化金融机构与民营企业信息对接机制，企业依据自身融资需求“下单”，金融机构可根据所掌握的信息“供货”，让信息“多跑路”企业“少跑腿”。\\n信息不够，信用来帮。受困于此前传统授信模式，金融机构往往需要企业通过抵押、担保等辅助手段增信。但由于可选的担保产品有限，不少企业选择相互担保，使得近年一些地方“担保链”风险事件频发。鉴于此，此次意见提出的“发挥国家融资担保基金引领作用，推动各地政府性融资担保体系建设和业务合作”一系列措施，是亟须之策也是长远之举。\\n政府性融资担保机构的建立，可以起到分散结构性风险的作用，有效撬动金融机构对民营企业的支持。并且，政府出资的融资担保机构不以营利为目的，在降低融资门槛的同时，还能减少融资成本。\\n民营企业要想驶入高质量发展的轨道，完善的金融基础设施建设必须先行。但这是一个长期的过程，唯有建立健全长效机制，将工作做好做实，才能有效缓解民营企业融资难、融资贵问题，增强微观主体活力，促进经济社会平稳健康发展。\""
   ]
  },
  {
   "cell_type": "code",
   "execution_count": 1,
   "id": "486ab8b9-b37d-40ba-863f-f2e4390ebd6a",
   "metadata": {
    "execution": {
     "iopub.execute_input": "2024-04-08T08:54:08.057988Z",
     "iopub.status.busy": "2024-04-08T08:54:08.057820Z",
     "iopub.status.idle": "2024-04-08T08:54:19.253037Z",
     "shell.execute_reply": "2024-04-08T08:54:19.252579Z",
     "shell.execute_reply.started": "2024-04-08T08:54:08.057974Z"
    },
    "tags": []
   },
   "outputs": [
    {
     "data": {
      "application/vnd.jupyter.widget-view+json": {
       "model_id": "4f9b674fa6fb4a20bf982cd21e601413",
       "version_major": 2,
       "version_minor": 0
      },
      "text/plain": [
       "Loading checkpoint shards:   0%|          | 0/7 [00:00<?, ?it/s]"
      ]
     },
     "metadata": {},
     "output_type": "display_data"
    },
    {
     "name": "stderr",
     "output_type": "stream",
     "text": [
      "Setting eos_token is not supported, use the default one.\n",
      "Setting pad_token is not supported, use the default one.\n",
      "Setting unk_token is not supported, use the default one.\n"
     ]
    },
    {
     "name": "stdout",
     "output_type": "stream",
     "text": [
      "近日，我国发布《关于加强金融服务民营企业的若干意见》，旨在解决民营企业融资难题，消除信息不对称和信用不充分等问题。金融机构难以获取准确企业信息，关键在于建立统一的信息平台，实现金融、税务、市场监管、社保、海关、司法等相关部门信息资源依法开放。意见提出，发挥国家融资担保基金引领作用，政府性融资担保机构建立，分散风险，降低融资门槛，降低融资成本。民营企业高质量发展需完善金融基础设施建设，但需长期努力，建立健全长效机制。\n"
     ]
    }
   ],
   "source": [
    "%run inference_hf.py output/checkpoint-1600/ --prompt \"金融机构与企业之间信息不对称是造成民营企业融资难、融资贵的重要原因。近日，中办、国办印发《关于加强金融服务民营企业的若干意见》，提出强化融资服务基础设施建设，着力破解民营企业信息不对称、信用不充分等问题。助力资金供需双方高效对接。\\n客户“画像”真实准确，金融机构才能“贷得放心”。但银行等金融机构服务民企，特别是小微企业时，一直存在获取准确信息、信用的障碍。一方面，部分企业自身提供的财务数据不全面、不真实，金融机构难以精准判断企业真实情况；另一方面，企业信息散落在不同政府部门之间，金融机构要充分掌握并不容易。\\n解决信息不对称问题，关键要打破“信息孤岛”，消除不同部门间的信息壁垒，建立统一的信息平台。\\n为实现信息跨层级跨部门跨地域互联互通，就必须推进金融、税务、市场监管、社保、海关、司法等相关领域的信息资源加速依法开放，从制度层面上为民企融资铺平道路。同时，健全优化金融机构与民营企业信息对接机制，企业依据自身融资需求“下单”，金融机构可根据所掌握的信息“供货”，让信息“多跑路”企业“少跑腿”。\\n信息不够，信用来帮。受困于此前传统授信模式，金融机构往往需要企业通过抵押、担保等辅助手段增信。但由于可选的担保产品有限，不少企业选择相互担保，使得近年一些地方“担保链”风险事件频发。鉴于此，此次意见提出的“发挥国家融资担保基金引领作用，推动各地政府性融资担保体系建设和业务合作”一系列措施，是亟须之策也是长远之举。\\n政府性融资担保机构的建立，可以起到分散结构性风险的作用，有效撬动金融机构对民营企业的支持。并且，政府出资的融资担保机构不以营利为目的，在降低融资门槛的同时，还能减少融资成本。\\n民营企业要想驶入高质量发展的轨道，完善的金融基础设施建设必须先行。但这是一个长期的过程，唯有建立健全长效机制，将工作做好做实，才能有效缓解民营企业融资难、融资贵问题，增强微观主体活力，促进经济社会平稳健康发展。\""
   ]
  },
  {
   "cell_type": "code",
   "execution_count": null,
   "id": "0325e1a0-d822-4f1d-960a-2daf3e905b16",
   "metadata": {},
   "outputs": [],
   "source": []
  }
 ],
 "metadata": {
  "kernelspec": {
   "display_name": "chatglm3-6b-finetunning",
   "language": "python",
   "name": "chatglm3-6b-finetunning"
  },
  "language_info": {
   "codemirror_mode": {
    "name": "ipython",
    "version": 3
   },
   "file_extension": ".py",
   "mimetype": "text/x-python",
   "name": "python",
   "nbconvert_exporter": "python",
   "pygments_lexer": "ipython3",
   "version": "3.10.14"
  }
 },
 "nbformat": 4,
 "nbformat_minor": 5
}
